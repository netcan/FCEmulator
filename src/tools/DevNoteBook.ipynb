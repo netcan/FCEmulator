{
 "cells": [
  {
   "cell_type": "code",
   "execution_count": 226,
   "metadata": {},
   "outputs": [
    {
     "data": {
      "text/plain": [
       "'/Users/netcan/Workspace/Programming/FCEmulator/src/tools'"
      ]
     },
     "execution_count": 226,
     "metadata": {},
     "output_type": "execute_result"
    }
   ],
   "source": [
    "pwd"
   ]
  },
  {
   "cell_type": "markdown",
   "metadata": {},
   "source": [
    "## 爬取Instruction Reference的指令信息\n",
    "[http://obelisk.me.uk/6502/reference.html](http://obelisk.me.uk/6502/reference.html)"
   ]
  },
  {
   "cell_type": "code",
   "execution_count": 227,
   "metadata": {
    "collapsed": true
   },
   "outputs": [],
   "source": [
    "import InstructionReference\n",
    "import pandas as pd"
   ]
  },
  {
   "cell_type": "code",
   "execution_count": 230,
   "metadata": {},
   "outputs": [
    {
     "data": {
      "text/html": [
       "<div>\n",
       "<style>\n",
       "    .dataframe thead tr:only-child th {\n",
       "        text-align: right;\n",
       "    }\n",
       "\n",
       "    .dataframe thead th {\n",
       "        text-align: left;\n",
       "    }\n",
       "\n",
       "    .dataframe tbody tr th {\n",
       "        vertical-align: top;\n",
       "    }\n",
       "</style>\n",
       "<table border=\"1\" class=\"dataframe\">\n",
       "  <thead>\n",
       "    <tr style=\"text-align: right;\">\n",
       "      <th></th>\n",
       "      <th>name</th>\n",
       "      <th>addressingMode</th>\n",
       "      <th>code</th>\n",
       "      <th>bytes</th>\n",
       "      <th>cycles</th>\n",
       "      <th>extraCycles</th>\n",
       "      <th>description</th>\n",
       "    </tr>\n",
       "  </thead>\n",
       "  <tbody>\n",
       "    <tr>\n",
       "      <th>0</th>\n",
       "      <td>ADC</td>\n",
       "      <td>Immediate</td>\n",
       "      <td>$69</td>\n",
       "      <td>2</td>\n",
       "      <td>2</td>\n",
       "      <td>0</td>\n",
       "      <td>[ADC - Add with Carry, A,Z,C,N = A+M+C, This i...</td>\n",
       "    </tr>\n",
       "    <tr>\n",
       "      <th>1</th>\n",
       "      <td>ADC</td>\n",
       "      <td>Zero Page</td>\n",
       "      <td>$65</td>\n",
       "      <td>2</td>\n",
       "      <td>3</td>\n",
       "      <td>0</td>\n",
       "      <td>[ADC - Add with Carry, A,Z,C,N = A+M+C, This i...</td>\n",
       "    </tr>\n",
       "    <tr>\n",
       "      <th>2</th>\n",
       "      <td>ADC</td>\n",
       "      <td>Zero Page,X</td>\n",
       "      <td>$75</td>\n",
       "      <td>2</td>\n",
       "      <td>4</td>\n",
       "      <td>0</td>\n",
       "      <td>[ADC - Add with Carry, A,Z,C,N = A+M+C, This i...</td>\n",
       "    </tr>\n",
       "    <tr>\n",
       "      <th>3</th>\n",
       "      <td>ADC</td>\n",
       "      <td>Absolute</td>\n",
       "      <td>$6D</td>\n",
       "      <td>3</td>\n",
       "      <td>4</td>\n",
       "      <td>0</td>\n",
       "      <td>[ADC - Add with Carry, A,Z,C,N = A+M+C, This i...</td>\n",
       "    </tr>\n",
       "    <tr>\n",
       "      <th>4</th>\n",
       "      <td>ADC</td>\n",
       "      <td>Absolute,X</td>\n",
       "      <td>$7D</td>\n",
       "      <td>3</td>\n",
       "      <td>4 (+1 if page crossed)</td>\n",
       "      <td>0</td>\n",
       "      <td>[ADC - Add with Carry, A,Z,C,N = A+M+C, This i...</td>\n",
       "    </tr>\n",
       "  </tbody>\n",
       "</table>\n",
       "</div>"
      ],
      "text/plain": [
       "  name addressingMode code bytes                  cycles extraCycles  \\\n",
       "0  ADC      Immediate  $69     2                       2           0   \n",
       "1  ADC      Zero Page  $65     2                       3           0   \n",
       "2  ADC    Zero Page,X  $75     2                       4           0   \n",
       "3  ADC       Absolute  $6D     3                       4           0   \n",
       "4  ADC     Absolute,X  $7D     3  4 (+1 if page crossed)           0   \n",
       "\n",
       "                                         description  \n",
       "0  [ADC - Add with Carry, A,Z,C,N = A+M+C, This i...  \n",
       "1  [ADC - Add with Carry, A,Z,C,N = A+M+C, This i...  \n",
       "2  [ADC - Add with Carry, A,Z,C,N = A+M+C, This i...  \n",
       "3  [ADC - Add with Carry, A,Z,C,N = A+M+C, This i...  \n",
       "4  [ADC - Add with Carry, A,Z,C,N = A+M+C, This i...  "
      ]
     },
     "execution_count": 230,
     "metadata": {},
     "output_type": "execute_result"
    }
   ],
   "source": [
    "ret = InstructionReference.get_inst_ref()\n",
    "df = pd.DataFrame(ret)\n",
    "df.head()"
   ]
  },
  {
   "cell_type": "markdown",
   "metadata": {},
   "source": [
    "## 对爬取的指令细节进行清洗"
   ]
  },
  {
   "cell_type": "code",
   "execution_count": 231,
   "metadata": {
    "scrolled": true
   },
   "outputs": [
    {
     "data": {
      "text/html": [
       "<div>\n",
       "<style>\n",
       "    .dataframe thead tr:only-child th {\n",
       "        text-align: right;\n",
       "    }\n",
       "\n",
       "    .dataframe thead th {\n",
       "        text-align: left;\n",
       "    }\n",
       "\n",
       "    .dataframe tbody tr th {\n",
       "        vertical-align: top;\n",
       "    }\n",
       "</style>\n",
       "<table border=\"1\" class=\"dataframe\">\n",
       "  <thead>\n",
       "    <tr style=\"text-align: right;\">\n",
       "      <th></th>\n",
       "      <th>name</th>\n",
       "      <th>addressingMode</th>\n",
       "      <th>code</th>\n",
       "      <th>bytes</th>\n",
       "      <th>cycles</th>\n",
       "      <th>extraCycles</th>\n",
       "      <th>description</th>\n",
       "    </tr>\n",
       "  </thead>\n",
       "  <tbody>\n",
       "    <tr>\n",
       "      <th>0</th>\n",
       "      <td>ADC</td>\n",
       "      <td>Immediate</td>\n",
       "      <td>$69</td>\n",
       "      <td>2</td>\n",
       "      <td>2</td>\n",
       "      <td>0</td>\n",
       "      <td>[ADC - Add with Carry, A,Z,C,N = A+M+C, This i...</td>\n",
       "    </tr>\n",
       "    <tr>\n",
       "      <th>1</th>\n",
       "      <td>ADC</td>\n",
       "      <td>ZeroPage</td>\n",
       "      <td>$65</td>\n",
       "      <td>2</td>\n",
       "      <td>3</td>\n",
       "      <td>0</td>\n",
       "      <td>[ADC - Add with Carry, A,Z,C,N = A+M+C, This i...</td>\n",
       "    </tr>\n",
       "    <tr>\n",
       "      <th>2</th>\n",
       "      <td>ADC</td>\n",
       "      <td>ZeroPageX</td>\n",
       "      <td>$75</td>\n",
       "      <td>2</td>\n",
       "      <td>4</td>\n",
       "      <td>0</td>\n",
       "      <td>[ADC - Add with Carry, A,Z,C,N = A+M+C, This i...</td>\n",
       "    </tr>\n",
       "    <tr>\n",
       "      <th>3</th>\n",
       "      <td>ADC</td>\n",
       "      <td>Absolute</td>\n",
       "      <td>$6D</td>\n",
       "      <td>3</td>\n",
       "      <td>4</td>\n",
       "      <td>0</td>\n",
       "      <td>[ADC - Add with Carry, A,Z,C,N = A+M+C, This i...</td>\n",
       "    </tr>\n",
       "    <tr>\n",
       "      <th>4</th>\n",
       "      <td>ADC</td>\n",
       "      <td>AbsoluteX</td>\n",
       "      <td>$7D</td>\n",
       "      <td>3</td>\n",
       "      <td>4 (+1 if page crossed)</td>\n",
       "      <td>0</td>\n",
       "      <td>[ADC - Add with Carry, A,Z,C,N = A+M+C, This i...</td>\n",
       "    </tr>\n",
       "  </tbody>\n",
       "</table>\n",
       "</div>"
      ],
      "text/plain": [
       "  name addressingMode code bytes                  cycles extraCycles  \\\n",
       "0  ADC      Immediate  $69     2                       2           0   \n",
       "1  ADC       ZeroPage  $65     2                       3           0   \n",
       "2  ADC      ZeroPageX  $75     2                       4           0   \n",
       "3  ADC       Absolute  $6D     3                       4           0   \n",
       "4  ADC      AbsoluteX  $7D     3  4 (+1 if page crossed)           0   \n",
       "\n",
       "                                         description  \n",
       "0  [ADC - Add with Carry, A,Z,C,N = A+M+C, This i...  \n",
       "1  [ADC - Add with Carry, A,Z,C,N = A+M+C, This i...  \n",
       "2  [ADC - Add with Carry, A,Z,C,N = A+M+C, This i...  \n",
       "3  [ADC - Add with Carry, A,Z,C,N = A+M+C, This i...  \n",
       "4  [ADC - Add with Carry, A,Z,C,N = A+M+C, This i...  "
      ]
     },
     "execution_count": 231,
     "metadata": {},
     "output_type": "execute_result"
    }
   ],
   "source": [
    "df['addressingMode'] = df['addressingMode'].str.replace('Implied', 'Implicit'\n",
    "                                ).str.replace('Zero\\s+Page', 'ZeroPage'\n",
    "                                ).str.replace('ZeroPage,X', 'ZeroPageX'\n",
    "                                ).str.replace('ZeroPage,Y', 'ZeroPageY'\n",
    "                                ).str.replace('Absolute,X', 'AbsoluteX'\n",
    "                                ).str.replace('Absolute,Y', 'AbsoluteY'\n",
    "                                ).str.replace('\\(Indirect,X\\)', 'IndexIndirect'\n",
    "                                ).str.replace('\\(Indirect\\),Y', 'IndirectIndex')\n",
    "df.head()"
   ]
  },
  {
   "cell_type": "code",
   "execution_count": 232,
   "metadata": {},
   "outputs": [
    {
     "data": {
      "text/html": [
       "<div>\n",
       "<style>\n",
       "    .dataframe thead tr:only-child th {\n",
       "        text-align: right;\n",
       "    }\n",
       "\n",
       "    .dataframe thead th {\n",
       "        text-align: left;\n",
       "    }\n",
       "\n",
       "    .dataframe tbody tr th {\n",
       "        vertical-align: top;\n",
       "    }\n",
       "</style>\n",
       "<table border=\"1\" class=\"dataframe\">\n",
       "  <thead>\n",
       "    <tr style=\"text-align: right;\">\n",
       "      <th></th>\n",
       "      <th>name</th>\n",
       "      <th>addressingMode</th>\n",
       "      <th>code</th>\n",
       "      <th>bytes</th>\n",
       "      <th>cycles</th>\n",
       "      <th>extraCycles</th>\n",
       "      <th>description</th>\n",
       "    </tr>\n",
       "  </thead>\n",
       "  <tbody>\n",
       "    <tr>\n",
       "      <th>0</th>\n",
       "      <td>ADC</td>\n",
       "      <td>Immediate</td>\n",
       "      <td>0x69</td>\n",
       "      <td>2</td>\n",
       "      <td>2</td>\n",
       "      <td>0</td>\n",
       "      <td>[ADC - Add with Carry, A,Z,C,N = A+M+C, This i...</td>\n",
       "    </tr>\n",
       "    <tr>\n",
       "      <th>1</th>\n",
       "      <td>ADC</td>\n",
       "      <td>ZeroPage</td>\n",
       "      <td>0x65</td>\n",
       "      <td>2</td>\n",
       "      <td>3</td>\n",
       "      <td>0</td>\n",
       "      <td>[ADC - Add with Carry, A,Z,C,N = A+M+C, This i...</td>\n",
       "    </tr>\n",
       "    <tr>\n",
       "      <th>2</th>\n",
       "      <td>ADC</td>\n",
       "      <td>ZeroPageX</td>\n",
       "      <td>0x75</td>\n",
       "      <td>2</td>\n",
       "      <td>4</td>\n",
       "      <td>0</td>\n",
       "      <td>[ADC - Add with Carry, A,Z,C,N = A+M+C, This i...</td>\n",
       "    </tr>\n",
       "    <tr>\n",
       "      <th>3</th>\n",
       "      <td>ADC</td>\n",
       "      <td>Absolute</td>\n",
       "      <td>0x6D</td>\n",
       "      <td>3</td>\n",
       "      <td>4</td>\n",
       "      <td>0</td>\n",
       "      <td>[ADC - Add with Carry, A,Z,C,N = A+M+C, This i...</td>\n",
       "    </tr>\n",
       "    <tr>\n",
       "      <th>4</th>\n",
       "      <td>ADC</td>\n",
       "      <td>AbsoluteX</td>\n",
       "      <td>0x7D</td>\n",
       "      <td>3</td>\n",
       "      <td>4 (+1 if page crossed)</td>\n",
       "      <td>0</td>\n",
       "      <td>[ADC - Add with Carry, A,Z,C,N = A+M+C, This i...</td>\n",
       "    </tr>\n",
       "  </tbody>\n",
       "</table>\n",
       "</div>"
      ],
      "text/plain": [
       "  name addressingMode  code bytes                  cycles extraCycles  \\\n",
       "0  ADC      Immediate  0x69     2                       2           0   \n",
       "1  ADC       ZeroPage  0x65     2                       3           0   \n",
       "2  ADC      ZeroPageX  0x75     2                       4           0   \n",
       "3  ADC       Absolute  0x6D     3                       4           0   \n",
       "4  ADC      AbsoluteX  0x7D     3  4 (+1 if page crossed)           0   \n",
       "\n",
       "                                         description  \n",
       "0  [ADC - Add with Carry, A,Z,C,N = A+M+C, This i...  \n",
       "1  [ADC - Add with Carry, A,Z,C,N = A+M+C, This i...  \n",
       "2  [ADC - Add with Carry, A,Z,C,N = A+M+C, This i...  \n",
       "3  [ADC - Add with Carry, A,Z,C,N = A+M+C, This i...  \n",
       "4  [ADC - Add with Carry, A,Z,C,N = A+M+C, This i...  "
      ]
     },
     "execution_count": 232,
     "metadata": {},
     "output_type": "execute_result"
    }
   ],
   "source": [
    "df['code'] = df['code'].str.replace('$', '0x')\n",
    "df.head()"
   ]
  },
  {
   "cell_type": "code",
   "execution_count": 233,
   "metadata": {},
   "outputs": [
    {
     "data": {
      "text/html": [
       "<div>\n",
       "<style>\n",
       "    .dataframe thead tr:only-child th {\n",
       "        text-align: right;\n",
       "    }\n",
       "\n",
       "    .dataframe thead th {\n",
       "        text-align: left;\n",
       "    }\n",
       "\n",
       "    .dataframe tbody tr th {\n",
       "        vertical-align: top;\n",
       "    }\n",
       "</style>\n",
       "<table border=\"1\" class=\"dataframe\">\n",
       "  <thead>\n",
       "    <tr style=\"text-align: right;\">\n",
       "      <th></th>\n",
       "      <th>name</th>\n",
       "      <th>addressingMode</th>\n",
       "      <th>code</th>\n",
       "      <th>bytes</th>\n",
       "      <th>cycles</th>\n",
       "      <th>extraCycles</th>\n",
       "      <th>description</th>\n",
       "    </tr>\n",
       "  </thead>\n",
       "  <tbody>\n",
       "    <tr>\n",
       "      <th>0</th>\n",
       "      <td>ADC</td>\n",
       "      <td>Immediate</td>\n",
       "      <td>0x69</td>\n",
       "      <td>2</td>\n",
       "      <td>2</td>\n",
       "      <td>0</td>\n",
       "      <td>[ADC - Add with Carry, A,Z,C,N = A+M+C, This i...</td>\n",
       "    </tr>\n",
       "    <tr>\n",
       "      <th>1</th>\n",
       "      <td>ADC</td>\n",
       "      <td>ZeroPage</td>\n",
       "      <td>0x65</td>\n",
       "      <td>2</td>\n",
       "      <td>3</td>\n",
       "      <td>0</td>\n",
       "      <td>[ADC - Add with Carry, A,Z,C,N = A+M+C, This i...</td>\n",
       "    </tr>\n",
       "    <tr>\n",
       "      <th>2</th>\n",
       "      <td>ADC</td>\n",
       "      <td>ZeroPageX</td>\n",
       "      <td>0x75</td>\n",
       "      <td>2</td>\n",
       "      <td>4</td>\n",
       "      <td>0</td>\n",
       "      <td>[ADC - Add with Carry, A,Z,C,N = A+M+C, This i...</td>\n",
       "    </tr>\n",
       "    <tr>\n",
       "      <th>3</th>\n",
       "      <td>ADC</td>\n",
       "      <td>Absolute</td>\n",
       "      <td>0x6D</td>\n",
       "      <td>3</td>\n",
       "      <td>4</td>\n",
       "      <td>0</td>\n",
       "      <td>[ADC - Add with Carry, A,Z,C,N = A+M+C, This i...</td>\n",
       "    </tr>\n",
       "    <tr>\n",
       "      <th>4</th>\n",
       "      <td>ADC</td>\n",
       "      <td>AbsoluteX</td>\n",
       "      <td>0x7D</td>\n",
       "      <td>3</td>\n",
       "      <td>4 (+1 if page crossed)</td>\n",
       "      <td>1</td>\n",
       "      <td>[ADC - Add with Carry, A,Z,C,N = A+M+C, This i...</td>\n",
       "    </tr>\n",
       "  </tbody>\n",
       "</table>\n",
       "</div>"
      ],
      "text/plain": [
       "  name addressingMode  code bytes                  cycles extraCycles  \\\n",
       "0  ADC      Immediate  0x69     2                       2           0   \n",
       "1  ADC       ZeroPage  0x65     2                       3           0   \n",
       "2  ADC      ZeroPageX  0x75     2                       4           0   \n",
       "3  ADC       Absolute  0x6D     3                       4           0   \n",
       "4  ADC      AbsoluteX  0x7D     3  4 (+1 if page crossed)           1   \n",
       "\n",
       "                                         description  \n",
       "0  [ADC - Add with Carry, A,Z,C,N = A+M+C, This i...  \n",
       "1  [ADC - Add with Carry, A,Z,C,N = A+M+C, This i...  \n",
       "2  [ADC - Add with Carry, A,Z,C,N = A+M+C, This i...  \n",
       "3  [ADC - Add with Carry, A,Z,C,N = A+M+C, This i...  \n",
       "4  [ADC - Add with Carry, A,Z,C,N = A+M+C, This i...  "
      ]
     },
     "execution_count": 233,
     "metadata": {},
     "output_type": "execute_result"
    }
   ],
   "source": [
    "df.loc[df['cycles'].str.contains('\\+1'), 'extraCycles'] = 1\n",
    "df.loc[df['cycles'].str.contains('\\+2'), 'extraCycles'] = 2\n",
    "df.head()"
   ]
  },
  {
   "cell_type": "code",
   "execution_count": 234,
   "metadata": {},
   "outputs": [
    {
     "data": {
      "text/html": [
       "<div>\n",
       "<style>\n",
       "    .dataframe thead tr:only-child th {\n",
       "        text-align: right;\n",
       "    }\n",
       "\n",
       "    .dataframe thead th {\n",
       "        text-align: left;\n",
       "    }\n",
       "\n",
       "    .dataframe tbody tr th {\n",
       "        vertical-align: top;\n",
       "    }\n",
       "</style>\n",
       "<table border=\"1\" class=\"dataframe\">\n",
       "  <thead>\n",
       "    <tr style=\"text-align: right;\">\n",
       "      <th></th>\n",
       "      <th>name</th>\n",
       "      <th>addressingMode</th>\n",
       "      <th>code</th>\n",
       "      <th>bytes</th>\n",
       "      <th>cycles</th>\n",
       "      <th>extraCycles</th>\n",
       "      <th>description</th>\n",
       "    </tr>\n",
       "  </thead>\n",
       "  <tbody>\n",
       "    <tr>\n",
       "      <th>0</th>\n",
       "      <td>ADC</td>\n",
       "      <td>Immediate</td>\n",
       "      <td>0x69</td>\n",
       "      <td>2</td>\n",
       "      <td>2</td>\n",
       "      <td>0</td>\n",
       "      <td>[ADC - Add with Carry, A,Z,C,N = A+M+C, This i...</td>\n",
       "    </tr>\n",
       "    <tr>\n",
       "      <th>1</th>\n",
       "      <td>ADC</td>\n",
       "      <td>ZeroPage</td>\n",
       "      <td>0x65</td>\n",
       "      <td>2</td>\n",
       "      <td>3</td>\n",
       "      <td>0</td>\n",
       "      <td>[ADC - Add with Carry, A,Z,C,N = A+M+C, This i...</td>\n",
       "    </tr>\n",
       "    <tr>\n",
       "      <th>2</th>\n",
       "      <td>ADC</td>\n",
       "      <td>ZeroPageX</td>\n",
       "      <td>0x75</td>\n",
       "      <td>2</td>\n",
       "      <td>4</td>\n",
       "      <td>0</td>\n",
       "      <td>[ADC - Add with Carry, A,Z,C,N = A+M+C, This i...</td>\n",
       "    </tr>\n",
       "    <tr>\n",
       "      <th>3</th>\n",
       "      <td>ADC</td>\n",
       "      <td>Absolute</td>\n",
       "      <td>0x6D</td>\n",
       "      <td>3</td>\n",
       "      <td>4</td>\n",
       "      <td>0</td>\n",
       "      <td>[ADC - Add with Carry, A,Z,C,N = A+M+C, This i...</td>\n",
       "    </tr>\n",
       "    <tr>\n",
       "      <th>4</th>\n",
       "      <td>ADC</td>\n",
       "      <td>AbsoluteX</td>\n",
       "      <td>0x7D</td>\n",
       "      <td>3</td>\n",
       "      <td>4</td>\n",
       "      <td>1</td>\n",
       "      <td>[ADC - Add with Carry, A,Z,C,N = A+M+C, This i...</td>\n",
       "    </tr>\n",
       "  </tbody>\n",
       "</table>\n",
       "</div>"
      ],
      "text/plain": [
       "  name addressingMode  code bytes cycles extraCycles  \\\n",
       "0  ADC      Immediate  0x69     2      2           0   \n",
       "1  ADC       ZeroPage  0x65     2      3           0   \n",
       "2  ADC      ZeroPageX  0x75     2      4           0   \n",
       "3  ADC       Absolute  0x6D     3      4           0   \n",
       "4  ADC      AbsoluteX  0x7D     3      4           1   \n",
       "\n",
       "                                         description  \n",
       "0  [ADC - Add with Carry, A,Z,C,N = A+M+C, This i...  \n",
       "1  [ADC - Add with Carry, A,Z,C,N = A+M+C, This i...  \n",
       "2  [ADC - Add with Carry, A,Z,C,N = A+M+C, This i...  \n",
       "3  [ADC - Add with Carry, A,Z,C,N = A+M+C, This i...  \n",
       "4  [ADC - Add with Carry, A,Z,C,N = A+M+C, This i...  "
      ]
     },
     "execution_count": 234,
     "metadata": {},
     "output_type": "execute_result"
    }
   ],
   "source": [
    "df['cycles'] = df['cycles'].str.replace('[\\n\\s]', ''\n",
    "                            ).str.replace('^(\\d+).*', lambda s: s.group(1))\n",
    "df.head()"
   ]
  },
  {
   "cell_type": "markdown",
   "metadata": {},
   "source": [
    "## 导出指令信息结构体数组，for C++ implements using."
   ]
  },
  {
   "cell_type": "code",
   "execution_count": null,
   "metadata": {},
   "outputs": [],
   "source": [
    "for (_, row) in df.iterrows():\n",
    "    print('\\t{{{}, {}, {}, {}, {}, {}, nullptr}}, '\n",
    "        .format(row['name'], row['addressingMode'],\n",
    "                row['code'], row['bytes'],\n",
    "                row['cycles'], row['extraCycles']))"
   ]
  },
  {
   "cell_type": "code",
   "execution_count": 236,
   "metadata": {},
   "outputs": [
    {
     "data": {
      "text/plain": [
       "56"
      ]
     },
     "execution_count": 236,
     "metadata": {},
     "output_type": "execute_result"
    }
   ],
   "source": [
    "df['name'].unique().size"
   ]
  },
  {
   "cell_type": "code",
   "execution_count": 237,
   "metadata": {},
   "outputs": [
    {
     "data": {
      "text/plain": [
       "name              151\n",
       "addressingMode    151\n",
       "code              151\n",
       "bytes             151\n",
       "cycles            151\n",
       "extraCycles       151\n",
       "description       151\n",
       "dtype: int64"
      ]
     },
     "execution_count": 237,
     "metadata": {},
     "output_type": "execute_result"
    }
   ],
   "source": [
    "df.count()"
   ]
  },
  {
   "cell_type": "markdown",
   "metadata": {},
   "source": [
    "## 按指令实现难易程度排序"
   ]
  },
  {
   "cell_type": "code",
   "execution_count": 243,
   "metadata": {},
   "outputs": [
    {
     "data": {
      "text/html": [
       "<div>\n",
       "<style>\n",
       "    .dataframe thead tr:only-child th {\n",
       "        text-align: right;\n",
       "    }\n",
       "\n",
       "    .dataframe thead th {\n",
       "        text-align: left;\n",
       "    }\n",
       "\n",
       "    .dataframe tbody tr th {\n",
       "        vertical-align: top;\n",
       "    }\n",
       "</style>\n",
       "<table border=\"1\" class=\"dataframe\">\n",
       "  <thead>\n",
       "    <tr style=\"text-align: right;\">\n",
       "      <th></th>\n",
       "      <th>name</th>\n",
       "      <th>addressingMode</th>\n",
       "      <th>code</th>\n",
       "      <th>bytes</th>\n",
       "      <th>cycles</th>\n",
       "      <th>extraCycles</th>\n",
       "      <th>description</th>\n",
       "    </tr>\n",
       "  </thead>\n",
       "  <tbody>\n",
       "    <tr>\n",
       "      <th>16</th>\n",
       "      <td>ASL</td>\n",
       "      <td>Accumulator</td>\n",
       "      <td>0x0A</td>\n",
       "      <td>1</td>\n",
       "      <td>2</td>\n",
       "      <td>0</td>\n",
       "      <td>[ASL - Arithmetic Shift Left, A,Z,C,N = M*2 or...</td>\n",
       "    </tr>\n",
       "    <tr>\n",
       "      <th>32</th>\n",
       "      <td>CLC</td>\n",
       "      <td>Implicit</td>\n",
       "      <td>0x18</td>\n",
       "      <td>1</td>\n",
       "      <td>2</td>\n",
       "      <td>0</td>\n",
       "      <td>[CLC - Clear Carry Flag, C = 0, Set the carry ...</td>\n",
       "    </tr>\n",
       "    <tr>\n",
       "      <th>33</th>\n",
       "      <td>CLD</td>\n",
       "      <td>Implicit</td>\n",
       "      <td>0xD8</td>\n",
       "      <td>1</td>\n",
       "      <td>2</td>\n",
       "      <td>0</td>\n",
       "      <td>[CLD - Clear Decimal Mode, D = 0, Sets the dec...</td>\n",
       "    </tr>\n",
       "    <tr>\n",
       "      <th>34</th>\n",
       "      <td>CLI</td>\n",
       "      <td>Implicit</td>\n",
       "      <td>0x58</td>\n",
       "      <td>1</td>\n",
       "      <td>2</td>\n",
       "      <td>0</td>\n",
       "      <td>[CLI - Clear Interrupt Disable, I = 0, Clears ...</td>\n",
       "    </tr>\n",
       "    <tr>\n",
       "      <th>35</th>\n",
       "      <td>CLV</td>\n",
       "      <td>Implicit</td>\n",
       "      <td>0xB8</td>\n",
       "      <td>1</td>\n",
       "      <td>2</td>\n",
       "      <td>0</td>\n",
       "      <td>[CLV - Clear Overflow Flag, V = 0, Clears the ...</td>\n",
       "    </tr>\n",
       "  </tbody>\n",
       "</table>\n",
       "</div>"
      ],
      "text/plain": [
       "   name addressingMode  code bytes cycles extraCycles  \\\n",
       "16  ASL    Accumulator  0x0A     1      2           0   \n",
       "32  CLC       Implicit  0x18     1      2           0   \n",
       "33  CLD       Implicit  0xD8     1      2           0   \n",
       "34  CLI       Implicit  0x58     1      2           0   \n",
       "35  CLV       Implicit  0xB8     1      2           0   \n",
       "\n",
       "                                          description  \n",
       "16  [ASL - Arithmetic Shift Left, A,Z,C,N = M*2 or...  \n",
       "32  [CLC - Clear Carry Flag, C = 0, Set the carry ...  \n",
       "33  [CLD - Clear Decimal Mode, D = 0, Sets the dec...  \n",
       "34  [CLI - Clear Interrupt Disable, I = 0, Clears ...  \n",
       "35  [CLV - Clear Overflow Flag, V = 0, Clears the ...  "
      ]
     },
     "execution_count": 243,
     "metadata": {},
     "output_type": "execute_result"
    }
   ],
   "source": [
    "df_sorted = df.sort_values(by=['bytes', 'cycles', 'extraCycles']).drop_duplicates(subset='name')\n",
    "df_sorted.head()"
   ]
  },
  {
   "cell_type": "markdown",
   "metadata": {
    "collapsed": true
   },
   "source": [
    "## 生成指令函数声明"
   ]
  },
  {
   "cell_type": "code",
   "execution_count": null,
   "metadata": {
    "scrolled": true
   },
   "outputs": [],
   "source": [
    "print('/**************** 指令声明区Begin ****************/')\n",
    "for (_, row) in df_sorted.iterrows():\n",
    "    print('OpExeFuncDecl(OP_{}); // {}'.format(row['name'], row['description'][0]))\n",
    "print('/****************  指令声明区End  ****************/\\n')"
   ]
  },
  {
   "cell_type": "markdown",
   "metadata": {
    "collapsed": true
   },
   "source": [
    "## 生成指令函数定义"
   ]
  },
  {
   "cell_type": "code",
   "execution_count": 337,
   "metadata": {},
   "outputs": [
    {
     "data": {
      "text/plain": [
       "['JSR - Jump to Subroutine',\n",
       " 'The JSR instruction pushes the address (minus one) of the return\\r\\npoint on to the stack and then sets the program counter to the\\r\\ntarget memory address.']"
      ]
     },
     "execution_count": 337,
     "metadata": {},
     "output_type": "execute_result"
    }
   ],
   "source": [
    "df[df['name'] == 'JSR']['description'].values[0]"
   ]
  },
  {
   "cell_type": "code",
   "execution_count": 268,
   "metadata": {},
   "outputs": [
    {
     "data": {
      "text/plain": [
       "3    122\n",
       "2     29\n",
       "Name: description, dtype: int64"
      ]
     },
     "execution_count": 268,
     "metadata": {},
     "output_type": "execute_result"
    }
   ],
   "source": [
    "df['description'].apply(lambda d: len(d)).value_counts()"
   ]
  },
  {
   "cell_type": "code",
   "execution_count": 306,
   "metadata": {},
   "outputs": [
    {
     "data": {
      "text/plain": [
       "96     NOP\n",
       "109    ROL\n",
       "114    ROR\n",
       "105    PHA\n",
       "106    PHP\n",
       "Name: name, dtype: object"
      ]
     },
     "execution_count": 306,
     "metadata": {},
     "output_type": "execute_result"
    }
   ],
   "source": [
    "df_sorted[df_sorted['description'].apply(lambda d: len(d)) == 2]['name'].head()"
   ]
  },
  {
   "cell_type": "code",
   "execution_count": null,
   "metadata": {
    "scrolled": true
   },
   "outputs": [],
   "source": [
    "print('/**************** 指令实现区Begin ****************/')\n",
    "for (_, row) in df_sorted.iterrows():\n",
    "    d = row['description'].copy()\n",
    "    d[1:] = [d.replace('\\r\\n', '\\n\\t * ') for d in d[1:]]\n",
    "    if len(d) < 3:\n",
    "        d.append('');\n",
    "    else:\n",
    "        d[2] = '\\t * {}\\n'.format(d[2])\n",
    "        \n",
    "    print( \n",
    "        'OpExeFuncDefine(OP_{}) {{\\n'\n",
    "        '\\t// TODO: wait for implements: {}\\n'\n",
    "        '\\t/**\\n'\n",
    "        '\\t * {}\\n'\n",
    "        '\\t * {}\\n'\n",
    "        '{}'\n",
    "        '\\t **/\\n'\n",
    "        '\\n\\treturn self.cycles;\\n'\n",
    "        '}}\\n'.format(row['name'], row['name'], *d)\n",
    "         )\n",
    "print('/****************  指令实现区End  ****************/')"
   ]
  },
  {
   "cell_type": "code",
   "execution_count": null,
   "metadata": {
    "collapsed": true
   },
   "outputs": [],
   "source": []
  },
  {
   "cell_type": "code",
   "execution_count": 239,
   "metadata": {},
   "outputs": [
    {
     "data": {
      "text/plain": [
       "13"
      ]
     },
     "execution_count": 239,
     "metadata": {},
     "output_type": "execute_result"
    }
   ],
   "source": [
    "df['addressingMode'].str.len().max()"
   ]
  },
  {
   "cell_type": "code",
   "execution_count": 240,
   "metadata": {},
   "outputs": [
    {
     "data": {
      "text/plain": [
       "name\n",
       "LDX    5\n",
       "LDY    5\n",
       "STA    7\n",
       "EOR    8\n",
       "ORA    8\n",
       "LDA    8\n",
       "CMP    8\n",
       "AND    8\n",
       "SBC    8\n",
       "ADC    8\n",
       "dtype: int64"
      ]
     },
     "execution_count": 240,
     "metadata": {},
     "output_type": "execute_result"
    }
   ],
   "source": [
    "df.groupby('name').size().sort_values()[-10:]"
   ]
  },
  {
   "cell_type": "code",
   "execution_count": 241,
   "metadata": {},
   "outputs": [
    {
     "data": {
      "text/plain": [
       "True"
      ]
     },
     "execution_count": 241,
     "metadata": {},
     "output_type": "execute_result"
    }
   ],
   "source": [
    "(df.loc[df['addressingMode'].str.contains('ZeroPage')]['extraCycles'] == '0').all() # Zero寻址模式没有+1的情况"
   ]
  },
  {
   "cell_type": "code",
   "execution_count": 242,
   "metadata": {},
   "outputs": [
    {
     "data": {
      "text/plain": [
       "True"
      ]
     },
     "execution_count": 242,
     "metadata": {},
     "output_type": "execute_result"
    }
   ],
   "source": [
    "(df.loc[df['addressingMode'].str.contains('IndexIndirected')]['extraCycles'] == '0').all() # IDX寻址模式没有+1的情况"
   ]
  },
  {
   "cell_type": "code",
   "execution_count": null,
   "metadata": {
    "collapsed": true
   },
   "outputs": [],
   "source": []
  }
 ],
 "metadata": {
  "celltoolbar": "Raw Cell Format",
  "kernelspec": {
   "display_name": "Python 3",
   "language": "python",
   "name": "python3"
  },
  "language_info": {
   "codemirror_mode": {
    "name": "ipython",
    "version": 3
   },
   "file_extension": ".py",
   "mimetype": "text/x-python",
   "name": "python",
   "nbconvert_exporter": "python",
   "pygments_lexer": "ipython3",
   "version": "3.6.2"
  }
 },
 "nbformat": 4,
 "nbformat_minor": 2
}
