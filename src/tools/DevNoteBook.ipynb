{
 "cells": [
  {
   "cell_type": "code",
   "execution_count": 131,
   "metadata": {},
   "outputs": [
    {
     "data": {
      "text/plain": [
       "'/Users/netcan/Workspace/Programming/FCEmulator/src/tools'"
      ]
     },
     "execution_count": 131,
     "metadata": {},
     "output_type": "execute_result"
    }
   ],
   "source": [
    "pwd"
   ]
  },
  {
   "cell_type": "markdown",
   "metadata": {},
   "source": [
    "## 爬取Instruction Reference的指令信息\n",
    "[http://obelisk.me.uk/6502/reference.html](http://obelisk.me.uk/6502/reference.html)"
   ]
  },
  {
   "cell_type": "code",
   "execution_count": 153,
   "metadata": {
    "collapsed": true
   },
   "outputs": [],
   "source": [
    "import InstructionReference\n",
    "import pandas as pd"
   ]
  },
  {
   "cell_type": "code",
   "execution_count": 155,
   "metadata": {
    "collapsed": true
   },
   "outputs": [],
   "source": [
    "ret = InstructionReference.get_inst_ref()\n",
    "df = pd.DataFrame(ret)"
   ]
  },
  {
   "cell_type": "markdown",
   "metadata": {},
   "source": [
    "## 对爬取的指令细节进行清洗"
   ]
  },
  {
   "cell_type": "code",
   "execution_count": 156,
   "metadata": {},
   "outputs": [
    {
     "data": {
      "text/html": [
       "<div>\n",
       "<style>\n",
       "    .dataframe thead tr:only-child th {\n",
       "        text-align: right;\n",
       "    }\n",
       "\n",
       "    .dataframe thead th {\n",
       "        text-align: left;\n",
       "    }\n",
       "\n",
       "    .dataframe tbody tr th {\n",
       "        vertical-align: top;\n",
       "    }\n",
       "</style>\n",
       "<table border=\"1\" class=\"dataframe\">\n",
       "  <thead>\n",
       "    <tr style=\"text-align: right;\">\n",
       "      <th></th>\n",
       "      <th>name</th>\n",
       "      <th>addressingMode</th>\n",
       "      <th>code</th>\n",
       "      <th>bytes</th>\n",
       "      <th>cycles</th>\n",
       "      <th>extraCycles</th>\n",
       "    </tr>\n",
       "  </thead>\n",
       "  <tbody>\n",
       "    <tr>\n",
       "      <th>0</th>\n",
       "      <td>ADC</td>\n",
       "      <td>Immediate</td>\n",
       "      <td>$69</td>\n",
       "      <td>2</td>\n",
       "      <td>2</td>\n",
       "      <td>0</td>\n",
       "    </tr>\n",
       "    <tr>\n",
       "      <th>1</th>\n",
       "      <td>ADC</td>\n",
       "      <td>ZeroPage</td>\n",
       "      <td>$65</td>\n",
       "      <td>2</td>\n",
       "      <td>3</td>\n",
       "      <td>0</td>\n",
       "    </tr>\n",
       "    <tr>\n",
       "      <th>2</th>\n",
       "      <td>ADC</td>\n",
       "      <td>ZeroPageX</td>\n",
       "      <td>$75</td>\n",
       "      <td>2</td>\n",
       "      <td>4</td>\n",
       "      <td>0</td>\n",
       "    </tr>\n",
       "    <tr>\n",
       "      <th>3</th>\n",
       "      <td>ADC</td>\n",
       "      <td>Absolute</td>\n",
       "      <td>$6D</td>\n",
       "      <td>3</td>\n",
       "      <td>4</td>\n",
       "      <td>0</td>\n",
       "    </tr>\n",
       "    <tr>\n",
       "      <th>4</th>\n",
       "      <td>ADC</td>\n",
       "      <td>AbsoluteX</td>\n",
       "      <td>$7D</td>\n",
       "      <td>3</td>\n",
       "      <td>4 (+1 if page crossed)</td>\n",
       "      <td>0</td>\n",
       "    </tr>\n",
       "  </tbody>\n",
       "</table>\n",
       "</div>"
      ],
      "text/plain": [
       "  name addressingMode code bytes                  cycles extraCycles\n",
       "0  ADC      Immediate  $69     2                       2           0\n",
       "1  ADC       ZeroPage  $65     2                       3           0\n",
       "2  ADC      ZeroPageX  $75     2                       4           0\n",
       "3  ADC       Absolute  $6D     3                       4           0\n",
       "4  ADC      AbsoluteX  $7D     3  4 (+1 if page crossed)           0"
      ]
     },
     "execution_count": 156,
     "metadata": {},
     "output_type": "execute_result"
    }
   ],
   "source": [
    "df['addressingMode'] = df['addressingMode'].str.replace('Implied', 'Implicit'\n",
    "                                ).str.replace('Zero\\s+Page', 'ZeroPage'\n",
    "                                ).str.replace('ZeroPage,X', 'ZeroPageX'\n",
    "                                ).str.replace('ZeroPage,Y', 'ZeroPageY'\n",
    "                                ).str.replace('Absolute,X', 'AbsoluteX'\n",
    "                                ).str.replace('Absolute,Y', 'AbsoluteY'\n",
    "                                ).str.replace('\\(Indirect,X\\)', 'IndexIndirect'\n",
    "                                ).str.replace('\\(Indirect\\),Y', 'IndirectIndex')\n",
    "df.head()"
   ]
  },
  {
   "cell_type": "code",
   "execution_count": 157,
   "metadata": {},
   "outputs": [
    {
     "data": {
      "text/html": [
       "<div>\n",
       "<style>\n",
       "    .dataframe thead tr:only-child th {\n",
       "        text-align: right;\n",
       "    }\n",
       "\n",
       "    .dataframe thead th {\n",
       "        text-align: left;\n",
       "    }\n",
       "\n",
       "    .dataframe tbody tr th {\n",
       "        vertical-align: top;\n",
       "    }\n",
       "</style>\n",
       "<table border=\"1\" class=\"dataframe\">\n",
       "  <thead>\n",
       "    <tr style=\"text-align: right;\">\n",
       "      <th></th>\n",
       "      <th>name</th>\n",
       "      <th>addressingMode</th>\n",
       "      <th>code</th>\n",
       "      <th>bytes</th>\n",
       "      <th>cycles</th>\n",
       "      <th>extraCycles</th>\n",
       "    </tr>\n",
       "  </thead>\n",
       "  <tbody>\n",
       "    <tr>\n",
       "      <th>0</th>\n",
       "      <td>ADC</td>\n",
       "      <td>Immediate</td>\n",
       "      <td>0x69</td>\n",
       "      <td>2</td>\n",
       "      <td>2</td>\n",
       "      <td>0</td>\n",
       "    </tr>\n",
       "    <tr>\n",
       "      <th>1</th>\n",
       "      <td>ADC</td>\n",
       "      <td>ZeroPage</td>\n",
       "      <td>0x65</td>\n",
       "      <td>2</td>\n",
       "      <td>3</td>\n",
       "      <td>0</td>\n",
       "    </tr>\n",
       "    <tr>\n",
       "      <th>2</th>\n",
       "      <td>ADC</td>\n",
       "      <td>ZeroPageX</td>\n",
       "      <td>0x75</td>\n",
       "      <td>2</td>\n",
       "      <td>4</td>\n",
       "      <td>0</td>\n",
       "    </tr>\n",
       "    <tr>\n",
       "      <th>3</th>\n",
       "      <td>ADC</td>\n",
       "      <td>Absolute</td>\n",
       "      <td>0x6D</td>\n",
       "      <td>3</td>\n",
       "      <td>4</td>\n",
       "      <td>0</td>\n",
       "    </tr>\n",
       "    <tr>\n",
       "      <th>4</th>\n",
       "      <td>ADC</td>\n",
       "      <td>AbsoluteX</td>\n",
       "      <td>0x7D</td>\n",
       "      <td>3</td>\n",
       "      <td>4 (+1 if page crossed)</td>\n",
       "      <td>0</td>\n",
       "    </tr>\n",
       "  </tbody>\n",
       "</table>\n",
       "</div>"
      ],
      "text/plain": [
       "  name addressingMode  code bytes                  cycles extraCycles\n",
       "0  ADC      Immediate  0x69     2                       2           0\n",
       "1  ADC       ZeroPage  0x65     2                       3           0\n",
       "2  ADC      ZeroPageX  0x75     2                       4           0\n",
       "3  ADC       Absolute  0x6D     3                       4           0\n",
       "4  ADC      AbsoluteX  0x7D     3  4 (+1 if page crossed)           0"
      ]
     },
     "execution_count": 157,
     "metadata": {},
     "output_type": "execute_result"
    }
   ],
   "source": [
    "df['code'] = df['code'].str.replace('$', '0x')\n",
    "df.head()"
   ]
  },
  {
   "cell_type": "code",
   "execution_count": 158,
   "metadata": {},
   "outputs": [
    {
     "data": {
      "text/html": [
       "<div>\n",
       "<style>\n",
       "    .dataframe thead tr:only-child th {\n",
       "        text-align: right;\n",
       "    }\n",
       "\n",
       "    .dataframe thead th {\n",
       "        text-align: left;\n",
       "    }\n",
       "\n",
       "    .dataframe tbody tr th {\n",
       "        vertical-align: top;\n",
       "    }\n",
       "</style>\n",
       "<table border=\"1\" class=\"dataframe\">\n",
       "  <thead>\n",
       "    <tr style=\"text-align: right;\">\n",
       "      <th></th>\n",
       "      <th>name</th>\n",
       "      <th>addressingMode</th>\n",
       "      <th>code</th>\n",
       "      <th>bytes</th>\n",
       "      <th>cycles</th>\n",
       "      <th>extraCycles</th>\n",
       "    </tr>\n",
       "  </thead>\n",
       "  <tbody>\n",
       "    <tr>\n",
       "      <th>0</th>\n",
       "      <td>ADC</td>\n",
       "      <td>Immediate</td>\n",
       "      <td>0x69</td>\n",
       "      <td>2</td>\n",
       "      <td>2</td>\n",
       "      <td>0</td>\n",
       "    </tr>\n",
       "    <tr>\n",
       "      <th>1</th>\n",
       "      <td>ADC</td>\n",
       "      <td>ZeroPage</td>\n",
       "      <td>0x65</td>\n",
       "      <td>2</td>\n",
       "      <td>3</td>\n",
       "      <td>0</td>\n",
       "    </tr>\n",
       "    <tr>\n",
       "      <th>2</th>\n",
       "      <td>ADC</td>\n",
       "      <td>ZeroPageX</td>\n",
       "      <td>0x75</td>\n",
       "      <td>2</td>\n",
       "      <td>4</td>\n",
       "      <td>0</td>\n",
       "    </tr>\n",
       "    <tr>\n",
       "      <th>3</th>\n",
       "      <td>ADC</td>\n",
       "      <td>Absolute</td>\n",
       "      <td>0x6D</td>\n",
       "      <td>3</td>\n",
       "      <td>4</td>\n",
       "      <td>0</td>\n",
       "    </tr>\n",
       "    <tr>\n",
       "      <th>4</th>\n",
       "      <td>ADC</td>\n",
       "      <td>AbsoluteX</td>\n",
       "      <td>0x7D</td>\n",
       "      <td>3</td>\n",
       "      <td>4 (+1 if page crossed)</td>\n",
       "      <td>1</td>\n",
       "    </tr>\n",
       "  </tbody>\n",
       "</table>\n",
       "</div>"
      ],
      "text/plain": [
       "  name addressingMode  code bytes                  cycles extraCycles\n",
       "0  ADC      Immediate  0x69     2                       2           0\n",
       "1  ADC       ZeroPage  0x65     2                       3           0\n",
       "2  ADC      ZeroPageX  0x75     2                       4           0\n",
       "3  ADC       Absolute  0x6D     3                       4           0\n",
       "4  ADC      AbsoluteX  0x7D     3  4 (+1 if page crossed)           1"
      ]
     },
     "execution_count": 158,
     "metadata": {},
     "output_type": "execute_result"
    }
   ],
   "source": [
    "df.loc[df['cycles'].str.contains('\\+1'), 'extraCycles'] = 1\n",
    "df.loc[df['cycles'].str.contains('\\+2'), 'extraCycles'] = 2\n",
    "df.head()"
   ]
  },
  {
   "cell_type": "code",
   "execution_count": 159,
   "metadata": {},
   "outputs": [
    {
     "data": {
      "text/html": [
       "<div>\n",
       "<style>\n",
       "    .dataframe thead tr:only-child th {\n",
       "        text-align: right;\n",
       "    }\n",
       "\n",
       "    .dataframe thead th {\n",
       "        text-align: left;\n",
       "    }\n",
       "\n",
       "    .dataframe tbody tr th {\n",
       "        vertical-align: top;\n",
       "    }\n",
       "</style>\n",
       "<table border=\"1\" class=\"dataframe\">\n",
       "  <thead>\n",
       "    <tr style=\"text-align: right;\">\n",
       "      <th></th>\n",
       "      <th>name</th>\n",
       "      <th>addressingMode</th>\n",
       "      <th>code</th>\n",
       "      <th>bytes</th>\n",
       "      <th>cycles</th>\n",
       "      <th>extraCycles</th>\n",
       "    </tr>\n",
       "  </thead>\n",
       "  <tbody>\n",
       "    <tr>\n",
       "      <th>0</th>\n",
       "      <td>ADC</td>\n",
       "      <td>Immediate</td>\n",
       "      <td>0x69</td>\n",
       "      <td>2</td>\n",
       "      <td>2</td>\n",
       "      <td>0</td>\n",
       "    </tr>\n",
       "    <tr>\n",
       "      <th>1</th>\n",
       "      <td>ADC</td>\n",
       "      <td>ZeroPage</td>\n",
       "      <td>0x65</td>\n",
       "      <td>2</td>\n",
       "      <td>3</td>\n",
       "      <td>0</td>\n",
       "    </tr>\n",
       "    <tr>\n",
       "      <th>2</th>\n",
       "      <td>ADC</td>\n",
       "      <td>ZeroPageX</td>\n",
       "      <td>0x75</td>\n",
       "      <td>2</td>\n",
       "      <td>4</td>\n",
       "      <td>0</td>\n",
       "    </tr>\n",
       "    <tr>\n",
       "      <th>3</th>\n",
       "      <td>ADC</td>\n",
       "      <td>Absolute</td>\n",
       "      <td>0x6D</td>\n",
       "      <td>3</td>\n",
       "      <td>4</td>\n",
       "      <td>0</td>\n",
       "    </tr>\n",
       "    <tr>\n",
       "      <th>4</th>\n",
       "      <td>ADC</td>\n",
       "      <td>AbsoluteX</td>\n",
       "      <td>0x7D</td>\n",
       "      <td>3</td>\n",
       "      <td>4</td>\n",
       "      <td>1</td>\n",
       "    </tr>\n",
       "  </tbody>\n",
       "</table>\n",
       "</div>"
      ],
      "text/plain": [
       "  name addressingMode  code bytes cycles extraCycles\n",
       "0  ADC      Immediate  0x69     2      2           0\n",
       "1  ADC       ZeroPage  0x65     2      3           0\n",
       "2  ADC      ZeroPageX  0x75     2      4           0\n",
       "3  ADC       Absolute  0x6D     3      4           0\n",
       "4  ADC      AbsoluteX  0x7D     3      4           1"
      ]
     },
     "execution_count": 159,
     "metadata": {},
     "output_type": "execute_result"
    }
   ],
   "source": [
    "df['cycles'] = df['cycles'].str.replace('[\\n\\s]', ''\n",
    "                            ).str.replace('(\\d+).*', lambda s: s.group(1))\n",
    "df.head()"
   ]
  },
  {
   "cell_type": "markdown",
   "metadata": {},
   "source": [
    "## 导出指令信息结构体数组，for C++ implements using."
   ]
  },
  {
   "cell_type": "code",
   "execution_count": 160,
   "metadata": {},
   "outputs": [
    {
     "name": "stdout",
     "output_type": "stream",
     "text": [
      "\t{ADC, Immediate, 0x69, 2, 2, 0, nullptr}, \n",
      "\t{ADC, ZeroPage, 0x65, 2, 3, 0, nullptr}, \n",
      "\t{ADC, ZeroPageX, 0x75, 2, 4, 0, nullptr}, \n",
      "\t{ADC, Absolute, 0x6D, 3, 4, 0, nullptr}, \n",
      "\t{ADC, AbsoluteX, 0x7D, 3, 4, 1, nullptr}, \n",
      "\t{ADC, AbsoluteY, 0x79, 3, 4, 1, nullptr}, \n",
      "\t{ADC, IndexIndirect, 0x61, 2, 6, 0, nullptr}, \n",
      "\t{ADC, IndirectIndex, 0x71, 2, 5, 1, nullptr}, \n",
      "\t{AND, Immediate, 0x29, 2, 2, 0, nullptr}, \n",
      "\t{AND, ZeroPage, 0x25, 2, 3, 0, nullptr}, \n",
      "\t{AND, ZeroPageX, 0x35, 2, 4, 0, nullptr}, \n",
      "\t{AND, Absolute, 0x2D, 3, 4, 0, nullptr}, \n",
      "\t{AND, AbsoluteX, 0x3D, 3, 4, 1, nullptr}, \n",
      "\t{AND, AbsoluteY, 0x39, 3, 4, 1, nullptr}, \n",
      "\t{AND, IndexIndirect, 0x21, 2, 6, 0, nullptr}, \n",
      "\t{AND, IndirectIndex, 0x31, 2, 5, 1, nullptr}, \n",
      "\t{ASL, Accumulator, 0x0A, 1, 2, 0, nullptr}, \n",
      "\t{ASL, ZeroPage, 0x06, 2, 5, 0, nullptr}, \n",
      "\t{ASL, ZeroPageX, 0x16, 2, 6, 0, nullptr}, \n",
      "\t{ASL, Absolute, 0x0E, 3, 6, 0, nullptr}, \n",
      "\t{ASL, AbsoluteX, 0x1E, 3, 7, 0, nullptr}, \n",
      "\t{BCC, Relative, 0x90, 2, 2, 2, nullptr}, \n",
      "\t{BCS, Relative, 0xB0, 2, 2, 2, nullptr}, \n",
      "\t{BEQ, Relative, 0xF0, 2, 2, 2, nullptr}, \n",
      "\t{BIT, ZeroPage, 0x24, 2, 3, 0, nullptr}, \n",
      "\t{BIT, Absolute, 0x2C, 3, 4, 0, nullptr}, \n",
      "\t{BMI, Relative, 0x30, 2, 2, 2, nullptr}, \n",
      "\t{BNE, Relative, 0xD0, 2, 2, 2, nullptr}, \n",
      "\t{BPL, Relative, 0x10, 2, 2, 2, nullptr}, \n",
      "\t{BRK, Implicit, 0x00, 1, 7, 0, nullptr}, \n",
      "\t{BVC, Relative, 0x50, 2, 2, 2, nullptr}, \n",
      "\t{BVS, Relative, 0x70, 2, 2, 2, nullptr}, \n",
      "\t{CLC, Implicit, 0x18, 1, 2, 0, nullptr}, \n",
      "\t{CLD, Implicit, 0xD8, 1, 2, 0, nullptr}, \n",
      "\t{CLI, Implicit, 0x58, 1, 2, 0, nullptr}, \n",
      "\t{CLV, Implicit, 0xB8, 1, 2, 0, nullptr}, \n",
      "\t{CMP, Immediate, 0xC9, 2, 2, 0, nullptr}, \n",
      "\t{CMP, ZeroPage, 0xC5, 2, 3, 0, nullptr}, \n",
      "\t{CMP, ZeroPageX, 0xD5, 2, 4, 0, nullptr}, \n",
      "\t{CMP, Absolute, 0xCD, 3, 4, 0, nullptr}, \n",
      "\t{CMP, AbsoluteX, 0xDD, 3, 4, 1, nullptr}, \n",
      "\t{CMP, AbsoluteY, 0xD9, 3, 4, 1, nullptr}, \n",
      "\t{CMP, IndexIndirect, 0xC1, 2, 6, 0, nullptr}, \n",
      "\t{CMP, IndirectIndex, 0xD1, 2, 5, 1, nullptr}, \n",
      "\t{CPX, Immediate, 0xE0, 2, 2, 0, nullptr}, \n",
      "\t{CPX, ZeroPage, 0xE4, 2, 3, 0, nullptr}, \n",
      "\t{CPX, Absolute, 0xEC, 3, 4, 0, nullptr}, \n",
      "\t{CPY, Immediate, 0xC0, 2, 2, 0, nullptr}, \n",
      "\t{CPY, ZeroPage, 0xC4, 2, 3, 0, nullptr}, \n",
      "\t{CPY, Absolute, 0xCC, 3, 4, 0, nullptr}, \n",
      "\t{DEC, ZeroPage, 0xC6, 2, 5, 0, nullptr}, \n",
      "\t{DEC, ZeroPageX, 0xD6, 2, 6, 0, nullptr}, \n",
      "\t{DEC, Absolute, 0xCE, 3, 6, 0, nullptr}, \n",
      "\t{DEC, AbsoluteX, 0xDE, 3, 7, 0, nullptr}, \n",
      "\t{DEX, Implicit, 0xCA, 1, 2, 0, nullptr}, \n",
      "\t{DEY, Implicit, 0x88, 1, 2, 0, nullptr}, \n",
      "\t{EOR, Immediate, 0x49, 2, 2, 0, nullptr}, \n",
      "\t{EOR, ZeroPage, 0x45, 2, 3, 0, nullptr}, \n",
      "\t{EOR, ZeroPageX, 0x55, 2, 4, 0, nullptr}, \n",
      "\t{EOR, Absolute, 0x4D, 3, 4, 0, nullptr}, \n",
      "\t{EOR, AbsoluteX, 0x5D, 3, 4, 1, nullptr}, \n",
      "\t{EOR, AbsoluteY, 0x59, 3, 4, 1, nullptr}, \n",
      "\t{EOR, IndexIndirect, 0x41, 2, 6, 0, nullptr}, \n",
      "\t{EOR, IndirectIndex, 0x51, 2, 5, 1, nullptr}, \n",
      "\t{INC, ZeroPage, 0xE6, 2, 5, 0, nullptr}, \n",
      "\t{INC, ZeroPageX, 0xF6, 2, 6, 0, nullptr}, \n",
      "\t{INC, Absolute, 0xEE, 3, 6, 0, nullptr}, \n",
      "\t{INC, AbsoluteX, 0xFE, 3, 7, 0, nullptr}, \n",
      "\t{INX, Implicit, 0xE8, 1, 2, 0, nullptr}, \n",
      "\t{INY, Implicit, 0xC8, 1, 2, 0, nullptr}, \n",
      "\t{JMP, Absolute, 0x4C, 3, 3, 0, nullptr}, \n",
      "\t{JMP, Indirect, 0x6C, 3, 5, 0, nullptr}, \n",
      "\t{JSR, Absolute, 0x20, 3, 6, 0, nullptr}, \n",
      "\t{LDA, Immediate, 0xA9, 2, 2, 0, nullptr}, \n",
      "\t{LDA, ZeroPage, 0xA5, 2, 3, 0, nullptr}, \n",
      "\t{LDA, ZeroPageX, 0xB5, 2, 4, 0, nullptr}, \n",
      "\t{LDA, Absolute, 0xAD, 3, 4, 0, nullptr}, \n",
      "\t{LDA, AbsoluteX, 0xBD, 3, 4, 1, nullptr}, \n",
      "\t{LDA, AbsoluteY, 0xB9, 3, 4, 1, nullptr}, \n",
      "\t{LDA, IndexIndirect, 0xA1, 2, 6, 0, nullptr}, \n",
      "\t{LDA, IndirectIndex, 0xB1, 2, 5, 1, nullptr}, \n",
      "\t{LDX, Immediate, 0xA2, 2, 2, 0, nullptr}, \n",
      "\t{LDX, ZeroPage, 0xA6, 2, 3, 0, nullptr}, \n",
      "\t{LDX, ZeroPageY, 0xB6, 2, 4, 0, nullptr}, \n",
      "\t{LDX, Absolute, 0xAE, 3, 4, 0, nullptr}, \n",
      "\t{LDX, AbsoluteY, 0xBE, 3, 4, 1, nullptr}, \n",
      "\t{LDY, Immediate, 0xA0, 2, 2, 0, nullptr}, \n",
      "\t{LDY, ZeroPage, 0xA4, 2, 3, 0, nullptr}, \n",
      "\t{LDY, ZeroPageX, 0xB4, 2, 4, 0, nullptr}, \n",
      "\t{LDY, Absolute, 0xAC, 3, 4, 0, nullptr}, \n",
      "\t{LDY, AbsoluteX, 0xBC, 3, 4, 1, nullptr}, \n",
      "\t{LSR, Accumulator, 0x4A, 1, 2, 0, nullptr}, \n",
      "\t{LSR, ZeroPage, 0x46, 2, 5, 0, nullptr}, \n",
      "\t{LSR, ZeroPageX, 0x56, 2, 6, 0, nullptr}, \n",
      "\t{LSR, Absolute, 0x4E, 3, 6, 0, nullptr}, \n",
      "\t{LSR, AbsoluteX, 0x5E, 3, 7, 0, nullptr}, \n",
      "\t{NOP, Implicit, 0xEA, 1, 2, 0, nullptr}, \n",
      "\t{ORA, Immediate, 0x09, 2, 2, 0, nullptr}, \n",
      "\t{ORA, ZeroPage, 0x05, 2, 3, 0, nullptr}, \n",
      "\t{ORA, ZeroPageX, 0x15, 2, 4, 0, nullptr}, \n",
      "\t{ORA, Absolute, 0x0D, 3, 4, 0, nullptr}, \n",
      "\t{ORA, AbsoluteX, 0x1D, 3, 4, 1, nullptr}, \n",
      "\t{ORA, AbsoluteY, 0x19, 3, 4, 1, nullptr}, \n",
      "\t{ORA, IndexIndirect, 0x01, 2, 6, 0, nullptr}, \n",
      "\t{ORA, IndirectIndex, 0x11, 2, 5, 1, nullptr}, \n",
      "\t{PHA, Implicit, 0x48, 1, 3, 0, nullptr}, \n",
      "\t{PHP, Implicit, 0x08, 1, 3, 0, nullptr}, \n",
      "\t{PLA, Implicit, 0x68, 1, 4, 0, nullptr}, \n",
      "\t{PLP, Implicit, 0x28, 1, 4, 0, nullptr}, \n",
      "\t{ROL, Accumulator, 0x2A, 1, 2, 0, nullptr}, \n",
      "\t{ROL, ZeroPage, 0x26, 2, 5, 0, nullptr}, \n",
      "\t{ROL, ZeroPageX, 0x36, 2, 6, 0, nullptr}, \n",
      "\t{ROL, Absolute, 0x2E, 3, 6, 0, nullptr}, \n",
      "\t{ROL, AbsoluteX, 0x3E, 3, 7, 0, nullptr}, \n",
      "\t{ROR, Accumulator, 0x6A, 1, 2, 0, nullptr}, \n",
      "\t{ROR, ZeroPage, 0x66, 2, 5, 0, nullptr}, \n",
      "\t{ROR, ZeroPageX, 0x76, 2, 6, 0, nullptr}, \n",
      "\t{ROR, Absolute, 0x6E, 3, 6, 0, nullptr}, \n",
      "\t{ROR, AbsoluteX, 0x7E, 3, 7, 0, nullptr}, \n",
      "\t{RTI, Implicit, 0x40, 1, 6, 0, nullptr}, \n",
      "\t{RTS, Implicit, 0x60, 1, 6, 0, nullptr}, \n",
      "\t{SBC, Immediate, 0xE9, 2, 2, 0, nullptr}, \n",
      "\t{SBC, ZeroPage, 0xE5, 2, 3, 0, nullptr}, \n",
      "\t{SBC, ZeroPageX, 0xF5, 2, 4, 0, nullptr}, \n",
      "\t{SBC, Absolute, 0xED, 3, 4, 0, nullptr}, \n",
      "\t{SBC, AbsoluteX, 0xFD, 3, 4, 1, nullptr}, \n",
      "\t{SBC, AbsoluteY, 0xF9, 3, 4, 1, nullptr}, \n",
      "\t{SBC, IndexIndirect, 0xE1, 2, 6, 0, nullptr}, \n",
      "\t{SBC, IndirectIndex, 0xF1, 2, 5, 1, nullptr}, \n",
      "\t{SEC, Implicit, 0x38, 1, 2, 0, nullptr}, \n",
      "\t{SED, Implicit, 0xF8, 1, 2, 0, nullptr}, \n",
      "\t{SEI, Implicit, 0x78, 1, 2, 0, nullptr}, \n",
      "\t{STA, ZeroPage, 0x85, 2, 3, 0, nullptr}, \n",
      "\t{STA, ZeroPageX, 0x95, 2, 4, 0, nullptr}, \n",
      "\t{STA, Absolute, 0x8D, 3, 4, 0, nullptr}, \n",
      "\t{STA, AbsoluteX, 0x9D, 3, 5, 0, nullptr}, \n",
      "\t{STA, AbsoluteY, 0x99, 3, 5, 0, nullptr}, \n",
      "\t{STA, IndexIndirect, 0x81, 2, 6, 0, nullptr}, \n",
      "\t{STA, IndirectIndex, 0x91, 2, 6, 0, nullptr}, \n",
      "\t{STX, ZeroPage, 0x86, 2, 3, 0, nullptr}, \n",
      "\t{STX, ZeroPageY, 0x96, 2, 4, 0, nullptr}, \n",
      "\t{STX, Absolute, 0x8E, 3, 4, 0, nullptr}, \n",
      "\t{STY, ZeroPage, 0x84, 2, 3, 0, nullptr}, \n",
      "\t{STY, ZeroPageX, 0x94, 2, 4, 0, nullptr}, \n",
      "\t{STY, Absolute, 0x8C, 3, 4, 0, nullptr}, \n",
      "\t{TAX, Implicit, 0xAA, 1, 2, 0, nullptr}, \n",
      "\t{TAY, Implicit, 0xA8, 1, 2, 0, nullptr}, \n",
      "\t{TSX, Implicit, 0xBA, 1, 2, 0, nullptr}, \n",
      "\t{TXA, Implicit, 0x8A, 1, 2, 0, nullptr}, \n",
      "\t{TXS, Implicit, 0x9A, 1, 2, 0, nullptr}, \n",
      "\t{TYA, Implicit, 0x98, 1, 2, 0, nullptr}, \n"
     ]
    }
   ],
   "source": [
    "for (_, row) in df.iterrows():\n",
    "    print('\\t{{{}, {}, {}, {}, {}, {}, nullptr}}, '\n",
    "        .format(row['name'], row['addressingMode'],\n",
    "                row['code'], row['bytes'],\n",
    "                row['cycles'], row['extraCycles']))"
   ]
  },
  {
   "cell_type": "code",
   "execution_count": 161,
   "metadata": {},
   "outputs": [
    {
     "data": {
      "text/plain": [
       "56"
      ]
     },
     "execution_count": 161,
     "metadata": {},
     "output_type": "execute_result"
    }
   ],
   "source": [
    "df['name'].unique().size"
   ]
  },
  {
   "cell_type": "code",
   "execution_count": 166,
   "metadata": {},
   "outputs": [
    {
     "data": {
      "text/plain": [
       "name              151\n",
       "addressingMode    151\n",
       "code              151\n",
       "bytes             151\n",
       "cycles            151\n",
       "extraCycles       151\n",
       "dtype: int64"
      ]
     },
     "execution_count": 166,
     "metadata": {},
     "output_type": "execute_result"
    }
   ],
   "source": [
    "df.count()"
   ]
  },
  {
   "cell_type": "markdown",
   "metadata": {},
   "source": [
    "## 按指令实现难易程度排序"
   ]
  },
  {
   "cell_type": "code",
   "execution_count": 163,
   "metadata": {},
   "outputs": [
    {
     "data": {
      "text/html": [
       "<div>\n",
       "<style>\n",
       "    .dataframe thead tr:only-child th {\n",
       "        text-align: right;\n",
       "    }\n",
       "\n",
       "    .dataframe thead th {\n",
       "        text-align: left;\n",
       "    }\n",
       "\n",
       "    .dataframe tbody tr th {\n",
       "        vertical-align: top;\n",
       "    }\n",
       "</style>\n",
       "<table border=\"1\" class=\"dataframe\">\n",
       "  <thead>\n",
       "    <tr style=\"text-align: right;\">\n",
       "      <th></th>\n",
       "      <th>name</th>\n",
       "      <th>addressingMode</th>\n",
       "      <th>code</th>\n",
       "      <th>bytes</th>\n",
       "      <th>cycles</th>\n",
       "      <th>extraCycles</th>\n",
       "    </tr>\n",
       "  </thead>\n",
       "  <tbody>\n",
       "    <tr>\n",
       "      <th>16</th>\n",
       "      <td>ASL</td>\n",
       "      <td>Accumulator</td>\n",
       "      <td>0x0A</td>\n",
       "      <td>1</td>\n",
       "      <td>2</td>\n",
       "      <td>0</td>\n",
       "    </tr>\n",
       "    <tr>\n",
       "      <th>32</th>\n",
       "      <td>CLC</td>\n",
       "      <td>Implicit</td>\n",
       "      <td>0x18</td>\n",
       "      <td>1</td>\n",
       "      <td>2</td>\n",
       "      <td>0</td>\n",
       "    </tr>\n",
       "    <tr>\n",
       "      <th>33</th>\n",
       "      <td>CLD</td>\n",
       "      <td>Implicit</td>\n",
       "      <td>0xD8</td>\n",
       "      <td>1</td>\n",
       "      <td>2</td>\n",
       "      <td>0</td>\n",
       "    </tr>\n",
       "    <tr>\n",
       "      <th>34</th>\n",
       "      <td>CLI</td>\n",
       "      <td>Implicit</td>\n",
       "      <td>0x58</td>\n",
       "      <td>1</td>\n",
       "      <td>2</td>\n",
       "      <td>0</td>\n",
       "    </tr>\n",
       "    <tr>\n",
       "      <th>35</th>\n",
       "      <td>CLV</td>\n",
       "      <td>Implicit</td>\n",
       "      <td>0xB8</td>\n",
       "      <td>1</td>\n",
       "      <td>2</td>\n",
       "      <td>0</td>\n",
       "    </tr>\n",
       "  </tbody>\n",
       "</table>\n",
       "</div>"
      ],
      "text/plain": [
       "   name addressingMode  code bytes cycles extraCycles\n",
       "16  ASL    Accumulator  0x0A     1      2           0\n",
       "32  CLC       Implicit  0x18     1      2           0\n",
       "33  CLD       Implicit  0xD8     1      2           0\n",
       "34  CLI       Implicit  0x58     1      2           0\n",
       "35  CLV       Implicit  0xB8     1      2           0"
      ]
     },
     "execution_count": 163,
     "metadata": {},
     "output_type": "execute_result"
    }
   ],
   "source": [
    "ordered_df = df.sort_values(by=['bytes', 'cycles', 'extraCycles']).drop_duplicates(subset='name')\n",
    "ordered_df.head()"
   ]
  },
  {
   "cell_type": "code",
   "execution_count": null,
   "metadata": {
    "collapsed": true
   },
   "outputs": [],
   "source": []
  },
  {
   "cell_type": "code",
   "execution_count": 177,
   "metadata": {},
   "outputs": [
    {
     "data": {
      "text/plain": [
       "13"
      ]
     },
     "execution_count": 177,
     "metadata": {},
     "output_type": "execute_result"
    }
   ],
   "source": [
    "df['addressingMode'].str.len().max()"
   ]
  },
  {
   "cell_type": "code",
   "execution_count": null,
   "metadata": {
    "collapsed": true
   },
   "outputs": [],
   "source": []
  }
 ],
 "metadata": {
  "kernelspec": {
   "display_name": "Python 3",
   "language": "python",
   "name": "python3"
  },
  "language_info": {
   "codemirror_mode": {
    "name": "ipython",
    "version": 3
   },
   "file_extension": ".py",
   "mimetype": "text/x-python",
   "name": "python",
   "nbconvert_exporter": "python",
   "pygments_lexer": "ipython3",
   "version": "3.6.2"
  }
 },
 "nbformat": 4,
 "nbformat_minor": 2
}
