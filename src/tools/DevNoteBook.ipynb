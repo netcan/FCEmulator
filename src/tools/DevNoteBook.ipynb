{
 "cells": [
  {
   "cell_type": "code",
   "execution_count": 1,
   "metadata": {},
   "outputs": [
    {
     "data": {
      "text/plain": [
       "'/Users/netcan/Workspace/Programming/FCEmulator/src/tools'"
      ]
     },
     "execution_count": 1,
     "metadata": {},
     "output_type": "execute_result"
    }
   ],
   "source": [
    "pwd"
   ]
  },
  {
   "cell_type": "code",
   "execution_count": 179,
   "metadata": {
    "collapsed": true
   },
   "outputs": [],
   "source": [
    "import InstructionReference"
   ]
  },
  {
   "cell_type": "code",
   "execution_count": 180,
   "metadata": {
    "collapsed": true
   },
   "outputs": [],
   "source": [
    "ret = InstructionReference.get_inst_ref()"
   ]
  },
  {
   "cell_type": "code",
   "execution_count": 185,
   "metadata": {},
   "outputs": [],
   "source": [
    "import pandas as pd\n",
    "df = pd.DataFrame(ret)"
   ]
  },
  {
   "cell_type": "code",
   "execution_count": 186,
   "metadata": {},
   "outputs": [
    {
     "data": {
      "text/html": [
       "<div>\n",
       "<style>\n",
       "    .dataframe thead tr:only-child th {\n",
       "        text-align: right;\n",
       "    }\n",
       "\n",
       "    .dataframe thead th {\n",
       "        text-align: left;\n",
       "    }\n",
       "\n",
       "    .dataframe tbody tr th {\n",
       "        vertical-align: top;\n",
       "    }\n",
       "</style>\n",
       "<table border=\"1\" class=\"dataframe\">\n",
       "  <thead>\n",
       "    <tr style=\"text-align: right;\">\n",
       "      <th></th>\n",
       "      <th>name</th>\n",
       "      <th>addressingMode</th>\n",
       "      <th>code</th>\n",
       "      <th>bytes</th>\n",
       "      <th>cycles</th>\n",
       "      <th>extraCycles</th>\n",
       "    </tr>\n",
       "  </thead>\n",
       "  <tbody>\n",
       "    <tr>\n",
       "      <th>0</th>\n",
       "      <td>ADC</td>\n",
       "      <td>Immediate</td>\n",
       "      <td>$69</td>\n",
       "      <td>2</td>\n",
       "      <td>2</td>\n",
       "      <td>0</td>\n",
       "    </tr>\n",
       "    <tr>\n",
       "      <th>1</th>\n",
       "      <td>ADC</td>\n",
       "      <td>ZeroPage</td>\n",
       "      <td>$65</td>\n",
       "      <td>2</td>\n",
       "      <td>3</td>\n",
       "      <td>0</td>\n",
       "    </tr>\n",
       "    <tr>\n",
       "      <th>2</th>\n",
       "      <td>ADC</td>\n",
       "      <td>ZeroPageX</td>\n",
       "      <td>$75</td>\n",
       "      <td>2</td>\n",
       "      <td>4</td>\n",
       "      <td>0</td>\n",
       "    </tr>\n",
       "    <tr>\n",
       "      <th>3</th>\n",
       "      <td>ADC</td>\n",
       "      <td>Absolute</td>\n",
       "      <td>$6D</td>\n",
       "      <td>3</td>\n",
       "      <td>4</td>\n",
       "      <td>0</td>\n",
       "    </tr>\n",
       "    <tr>\n",
       "      <th>4</th>\n",
       "      <td>ADC</td>\n",
       "      <td>AbsoluteX</td>\n",
       "      <td>$7D</td>\n",
       "      <td>3</td>\n",
       "      <td>4 (+1 if page crossed)</td>\n",
       "      <td>0</td>\n",
       "    </tr>\n",
       "  </tbody>\n",
       "</table>\n",
       "</div>"
      ],
      "text/plain": [
       "  name addressingMode code bytes                  cycles extraCycles\n",
       "0  ADC      Immediate  $69     2                       2           0\n",
       "1  ADC       ZeroPage  $65     2                       3           0\n",
       "2  ADC      ZeroPageX  $75     2                       4           0\n",
       "3  ADC       Absolute  $6D     3                       4           0\n",
       "4  ADC      AbsoluteX  $7D     3  4 (+1 if page crossed)           0"
      ]
     },
     "execution_count": 186,
     "metadata": {},
     "output_type": "execute_result"
    }
   ],
   "source": [
    "df['addressingMode'] = df['addressingMode'].str.replace('Implied', 'Implicit'\n",
    "                                ).str.replace('Zero\\s+Page', 'ZeroPage'\n",
    "                                ).str.replace('ZeroPage,X', 'ZeroPageX'\n",
    "                                ).str.replace('ZeroPage,Y', 'ZeroPageY'\n",
    "                                ).str.replace('Absolute,X', 'AbsoluteX'\n",
    "                                ).str.replace('Absolute,Y', 'AbsoluteY'\n",
    "                                ).str.replace('\\(Indirect,X\\)', 'IndexIndirect'\n",
    "                                ).str.replace('\\(Indirect\\),Y', 'IndirectIndex')\n",
    "df.head()"
   ]
  },
  {
   "cell_type": "code",
   "execution_count": 187,
   "metadata": {},
   "outputs": [
    {
     "data": {
      "text/html": [
       "<div>\n",
       "<style>\n",
       "    .dataframe thead tr:only-child th {\n",
       "        text-align: right;\n",
       "    }\n",
       "\n",
       "    .dataframe thead th {\n",
       "        text-align: left;\n",
       "    }\n",
       "\n",
       "    .dataframe tbody tr th {\n",
       "        vertical-align: top;\n",
       "    }\n",
       "</style>\n",
       "<table border=\"1\" class=\"dataframe\">\n",
       "  <thead>\n",
       "    <tr style=\"text-align: right;\">\n",
       "      <th></th>\n",
       "      <th>name</th>\n",
       "      <th>addressingMode</th>\n",
       "      <th>code</th>\n",
       "      <th>bytes</th>\n",
       "      <th>cycles</th>\n",
       "      <th>extraCycles</th>\n",
       "    </tr>\n",
       "  </thead>\n",
       "  <tbody>\n",
       "    <tr>\n",
       "      <th>0</th>\n",
       "      <td>ADC</td>\n",
       "      <td>Immediate</td>\n",
       "      <td>0x69</td>\n",
       "      <td>2</td>\n",
       "      <td>2</td>\n",
       "      <td>0</td>\n",
       "    </tr>\n",
       "    <tr>\n",
       "      <th>1</th>\n",
       "      <td>ADC</td>\n",
       "      <td>ZeroPage</td>\n",
       "      <td>0x65</td>\n",
       "      <td>2</td>\n",
       "      <td>3</td>\n",
       "      <td>0</td>\n",
       "    </tr>\n",
       "    <tr>\n",
       "      <th>2</th>\n",
       "      <td>ADC</td>\n",
       "      <td>ZeroPageX</td>\n",
       "      <td>0x75</td>\n",
       "      <td>2</td>\n",
       "      <td>4</td>\n",
       "      <td>0</td>\n",
       "    </tr>\n",
       "    <tr>\n",
       "      <th>3</th>\n",
       "      <td>ADC</td>\n",
       "      <td>Absolute</td>\n",
       "      <td>0x6D</td>\n",
       "      <td>3</td>\n",
       "      <td>4</td>\n",
       "      <td>0</td>\n",
       "    </tr>\n",
       "    <tr>\n",
       "      <th>4</th>\n",
       "      <td>ADC</td>\n",
       "      <td>AbsoluteX</td>\n",
       "      <td>0x7D</td>\n",
       "      <td>3</td>\n",
       "      <td>4 (+1 if page crossed)</td>\n",
       "      <td>0</td>\n",
       "    </tr>\n",
       "  </tbody>\n",
       "</table>\n",
       "</div>"
      ],
      "text/plain": [
       "  name addressingMode  code bytes                  cycles extraCycles\n",
       "0  ADC      Immediate  0x69     2                       2           0\n",
       "1  ADC       ZeroPage  0x65     2                       3           0\n",
       "2  ADC      ZeroPageX  0x75     2                       4           0\n",
       "3  ADC       Absolute  0x6D     3                       4           0\n",
       "4  ADC      AbsoluteX  0x7D     3  4 (+1 if page crossed)           0"
      ]
     },
     "execution_count": 187,
     "metadata": {},
     "output_type": "execute_result"
    }
   ],
   "source": [
    "df['code'] = df['code'].str.replace('$', '0x')\n",
    "df.head()"
   ]
  },
  {
   "cell_type": "code",
   "execution_count": 188,
   "metadata": {},
   "outputs": [
    {
     "data": {
      "text/html": [
       "<div>\n",
       "<style>\n",
       "    .dataframe thead tr:only-child th {\n",
       "        text-align: right;\n",
       "    }\n",
       "\n",
       "    .dataframe thead th {\n",
       "        text-align: left;\n",
       "    }\n",
       "\n",
       "    .dataframe tbody tr th {\n",
       "        vertical-align: top;\n",
       "    }\n",
       "</style>\n",
       "<table border=\"1\" class=\"dataframe\">\n",
       "  <thead>\n",
       "    <tr style=\"text-align: right;\">\n",
       "      <th></th>\n",
       "      <th>name</th>\n",
       "      <th>addressingMode</th>\n",
       "      <th>code</th>\n",
       "      <th>bytes</th>\n",
       "      <th>cycles</th>\n",
       "      <th>extraCycles</th>\n",
       "    </tr>\n",
       "  </thead>\n",
       "  <tbody>\n",
       "    <tr>\n",
       "      <th>0</th>\n",
       "      <td>ADC</td>\n",
       "      <td>Immediate</td>\n",
       "      <td>0x69</td>\n",
       "      <td>2</td>\n",
       "      <td>2</td>\n",
       "      <td>0</td>\n",
       "    </tr>\n",
       "    <tr>\n",
       "      <th>1</th>\n",
       "      <td>ADC</td>\n",
       "      <td>ZeroPage</td>\n",
       "      <td>0x65</td>\n",
       "      <td>2</td>\n",
       "      <td>3</td>\n",
       "      <td>0</td>\n",
       "    </tr>\n",
       "    <tr>\n",
       "      <th>2</th>\n",
       "      <td>ADC</td>\n",
       "      <td>ZeroPageX</td>\n",
       "      <td>0x75</td>\n",
       "      <td>2</td>\n",
       "      <td>4</td>\n",
       "      <td>0</td>\n",
       "    </tr>\n",
       "    <tr>\n",
       "      <th>3</th>\n",
       "      <td>ADC</td>\n",
       "      <td>Absolute</td>\n",
       "      <td>0x6D</td>\n",
       "      <td>3</td>\n",
       "      <td>4</td>\n",
       "      <td>0</td>\n",
       "    </tr>\n",
       "    <tr>\n",
       "      <th>4</th>\n",
       "      <td>ADC</td>\n",
       "      <td>AbsoluteX</td>\n",
       "      <td>0x7D</td>\n",
       "      <td>3</td>\n",
       "      <td>4 (+1 if page crossed)</td>\n",
       "      <td>1</td>\n",
       "    </tr>\n",
       "  </tbody>\n",
       "</table>\n",
       "</div>"
      ],
      "text/plain": [
       "  name addressingMode  code bytes                  cycles extraCycles\n",
       "0  ADC      Immediate  0x69     2                       2           0\n",
       "1  ADC       ZeroPage  0x65     2                       3           0\n",
       "2  ADC      ZeroPageX  0x75     2                       4           0\n",
       "3  ADC       Absolute  0x6D     3                       4           0\n",
       "4  ADC      AbsoluteX  0x7D     3  4 (+1 if page crossed)           1"
      ]
     },
     "execution_count": 188,
     "metadata": {},
     "output_type": "execute_result"
    }
   ],
   "source": [
    "df.loc[df['cycles'].str.contains('\\+1'), 'extraCycles'] = 1\n",
    "df.loc[df['cycles'].str.contains('\\+2'), 'extraCycles'] = 2\n",
    "df.head()"
   ]
  },
  {
   "cell_type": "code",
   "execution_count": 190,
   "metadata": {},
   "outputs": [
    {
     "data": {
      "text/html": [
       "<div>\n",
       "<style>\n",
       "    .dataframe thead tr:only-child th {\n",
       "        text-align: right;\n",
       "    }\n",
       "\n",
       "    .dataframe thead th {\n",
       "        text-align: left;\n",
       "    }\n",
       "\n",
       "    .dataframe tbody tr th {\n",
       "        vertical-align: top;\n",
       "    }\n",
       "</style>\n",
       "<table border=\"1\" class=\"dataframe\">\n",
       "  <thead>\n",
       "    <tr style=\"text-align: right;\">\n",
       "      <th></th>\n",
       "      <th>name</th>\n",
       "      <th>addressingMode</th>\n",
       "      <th>code</th>\n",
       "      <th>bytes</th>\n",
       "      <th>cycles</th>\n",
       "      <th>extraCycles</th>\n",
       "    </tr>\n",
       "  </thead>\n",
       "  <tbody>\n",
       "    <tr>\n",
       "      <th>0</th>\n",
       "      <td>ADC</td>\n",
       "      <td>Immediate</td>\n",
       "      <td>0x69</td>\n",
       "      <td>2</td>\n",
       "      <td>2</td>\n",
       "      <td>0</td>\n",
       "    </tr>\n",
       "    <tr>\n",
       "      <th>1</th>\n",
       "      <td>ADC</td>\n",
       "      <td>ZeroPage</td>\n",
       "      <td>0x65</td>\n",
       "      <td>2</td>\n",
       "      <td>3</td>\n",
       "      <td>0</td>\n",
       "    </tr>\n",
       "    <tr>\n",
       "      <th>2</th>\n",
       "      <td>ADC</td>\n",
       "      <td>ZeroPageX</td>\n",
       "      <td>0x75</td>\n",
       "      <td>2</td>\n",
       "      <td>4</td>\n",
       "      <td>0</td>\n",
       "    </tr>\n",
       "    <tr>\n",
       "      <th>3</th>\n",
       "      <td>ADC</td>\n",
       "      <td>Absolute</td>\n",
       "      <td>0x6D</td>\n",
       "      <td>3</td>\n",
       "      <td>4</td>\n",
       "      <td>0</td>\n",
       "    </tr>\n",
       "    <tr>\n",
       "      <th>4</th>\n",
       "      <td>ADC</td>\n",
       "      <td>AbsoluteX</td>\n",
       "      <td>0x7D</td>\n",
       "      <td>3</td>\n",
       "      <td>4</td>\n",
       "      <td>1</td>\n",
       "    </tr>\n",
       "  </tbody>\n",
       "</table>\n",
       "</div>"
      ],
      "text/plain": [
       "  name addressingMode  code bytes cycles extraCycles\n",
       "0  ADC      Immediate  0x69     2      2           0\n",
       "1  ADC       ZeroPage  0x65     2      3           0\n",
       "2  ADC      ZeroPageX  0x75     2      4           0\n",
       "3  ADC       Absolute  0x6D     3      4           0\n",
       "4  ADC      AbsoluteX  0x7D     3      4           1"
      ]
     },
     "execution_count": 190,
     "metadata": {},
     "output_type": "execute_result"
    }
   ],
   "source": [
    "df['cycles'] = df['cycles'].str.replace('[\\n\\s]', ''\n",
    "                            ).str.replace('(\\d+).*', lambda s: s.group(1))\n",
    "df.head()"
   ]
  },
  {
   "cell_type": "code",
   "execution_count": null,
   "metadata": {
    "collapsed": true
   },
   "outputs": [],
   "source": []
  }
 ],
 "metadata": {
  "kernelspec": {
   "display_name": "Python 3",
   "language": "python",
   "name": "python3"
  },
  "language_info": {
   "codemirror_mode": {
    "name": "ipython",
    "version": 3
   },
   "file_extension": ".py",
   "mimetype": "text/x-python",
   "name": "python",
   "nbconvert_exporter": "python",
   "pygments_lexer": "ipython3",
   "version": "3.6.2"
  }
 },
 "nbformat": 4,
 "nbformat_minor": 2
}
